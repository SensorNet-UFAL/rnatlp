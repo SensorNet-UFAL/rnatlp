{
 "cells": [
  {
   "cell_type": "code",
   "execution_count": 8,
   "metadata": {},
   "outputs": [],
   "source": [
    "# Reading Bibtex\n",
    "# assuming that you are in the same directory as this snippet\n",
    "library(bibliometrix)\n",
    "bibs <- list.files(\"bibs/\", pattern = \"bib$\", recursive = T, full.names = T)\n",
    "D <- readFiles(\"bibs/scopus.bib\")"
   ]
  },
  {
   "cell_type": "code",
   "execution_count": 12,
   "metadata": {},
   "outputs": [
    {
     "data": {
      "text/html": [
       "<ol class=list-inline>\n",
       "\t<li>''</li>\n",
       "\t<li>'@ARTICLE{Mylonas201943,'</li>\n",
       "\t<li>'author={Mylonas, G. and Amaxilatis, D. and Pocero, L. and Markelis, I. and Hofstaetter, J. and Koulouris, P.},'</li>\n",
       "\t<li>'title={An educational IoT lab kit and tools for energy awareness in European schools},'</li>\n",
       "\t<li>'journal={International Journal of Child-Computer Interaction},'</li>\n",
       "\t<li>'year={2019},'</li>\n",
       "</ol>\n"
      ],
      "text/latex": [
       "\\begin{enumerate*}\n",
       "\\item ''\n",
       "\\item '@ARTICLE\\{Mylonas201943,'\n",
       "\\item 'author=\\{Mylonas, G. and Amaxilatis, D. and Pocero, L. and Markelis, I. and Hofstaetter, J. and Koulouris, P.\\},'\n",
       "\\item 'title=\\{An educational IoT lab kit and tools for energy awareness in European schools\\},'\n",
       "\\item 'journal=\\{International Journal of Child-Computer Interaction\\},'\n",
       "\\item 'year=\\{2019\\},'\n",
       "\\end{enumerate*}\n"
      ],
      "text/markdown": [
       "1. ''\n",
       "2. '@ARTICLE{Mylonas201943,'\n",
       "3. 'author={Mylonas, G. and Amaxilatis, D. and Pocero, L. and Markelis, I. and Hofstaetter, J. and Koulouris, P.},'\n",
       "4. 'title={An educational IoT lab kit and tools for energy awareness in European schools},'\n",
       "5. 'journal={International Journal of Child-Computer Interaction},'\n",
       "6. 'year={2019},'\n",
       "\n",
       "\n"
      ],
      "text/plain": [
       "[1] \"\"                                                                                                              \n",
       "[2] \"@ARTICLE{Mylonas201943,\"                                                                                       \n",
       "[3] \"author={Mylonas, G. and Amaxilatis, D. and Pocero, L. and Markelis, I. and Hofstaetter, J. and Koulouris, P.},\"\n",
       "[4] \"title={An educational IoT lab kit and tools for energy awareness in European schools},\"                        \n",
       "[5] \"journal={International Journal of Child-Computer Interaction},\"                                                \n",
       "[6] \"year={2019},\"                                                                                                  "
      ]
     },
     "metadata": {},
     "output_type": "display_data"
    }
   ],
   "source": [
    "head(D)"
   ]
  },
  {
   "cell_type": "code",
   "execution_count": 11,
   "metadata": {},
   "outputs": [
    {
     "data": {
      "text/html": [
       "'/home/laccan/testesRNotebooks/rnatlp'"
      ],
      "text/latex": [
       "'/home/laccan/testesRNotebooks/rnatlp'"
      ],
      "text/markdown": [
       "'/home/laccan/testesRNotebooks/rnatlp'"
      ],
      "text/plain": [
       "[1] \"/home/laccan/testesRNotebooks/rnatlp\""
      ]
     },
     "metadata": {},
     "output_type": "display_data"
    }
   ],
   "source": [
    "getwd()"
   ]
  }
 ],
 "metadata": {
  "kernelspec": {
   "display_name": "R",
   "language": "R",
   "name": "ir"
  },
  "language_info": {
   "codemirror_mode": "r",
   "file_extension": ".r",
   "mimetype": "text/x-r-source",
   "name": "R",
   "pygments_lexer": "r",
   "version": "3.4.4"
  }
 },
 "nbformat": 4,
 "nbformat_minor": 2
}
