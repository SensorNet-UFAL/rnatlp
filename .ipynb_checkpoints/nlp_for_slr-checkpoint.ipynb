{
 "cells": [
  {
   "cell_type": "code",
   "execution_count": 4,
   "metadata": {},
   "outputs": [
    {
     "name": "stderr",
     "output_type": "stream",
     "text": [
      "Loading required package: xml2\n",
      "\n",
      "── \u001b[1mAttaching packages\u001b[22m ─────────────────────────────────────── tidyverse 1.3.0 ──\n",
      "\n",
      "\u001b[32m✔\u001b[39m \u001b[34mggplot2\u001b[39m 3.3.1     \u001b[32m✔\u001b[39m \u001b[34mpurrr  \u001b[39m 0.3.4\n",
      "\u001b[32m✔\u001b[39m \u001b[34mtibble \u001b[39m 3.0.1     \u001b[32m✔\u001b[39m \u001b[34mdplyr  \u001b[39m 1.0.0\n",
      "\u001b[32m✔\u001b[39m \u001b[34mtidyr  \u001b[39m 1.1.0     \u001b[32m✔\u001b[39m \u001b[34mstringr\u001b[39m 1.4.0\n",
      "\u001b[32m✔\u001b[39m \u001b[34mreadr  \u001b[39m 1.3.1     \u001b[32m✔\u001b[39m \u001b[34mforcats\u001b[39m 0.5.0\n",
      "\n",
      "── \u001b[1mConflicts\u001b[22m ────────────────────────────────────────── tidyverse_conflicts() ──\n",
      "\u001b[31m✖\u001b[39m \u001b[34mdplyr\u001b[39m::\u001b[32mfilter()\u001b[39m         masks \u001b[34mstats\u001b[39m::filter()\n",
      "\u001b[31m✖\u001b[39m \u001b[34mreadr\u001b[39m::\u001b[32mguess_encoding()\u001b[39m masks \u001b[34mrvest\u001b[39m::guess_encoding()\n",
      "\u001b[31m✖\u001b[39m \u001b[34mdplyr\u001b[39m::\u001b[32mlag()\u001b[39m            masks \u001b[34mstats\u001b[39m::lag()\n",
      "\u001b[31m✖\u001b[39m \u001b[34mpurrr\u001b[39m::\u001b[32mpluck()\u001b[39m          masks \u001b[34mrvest\u001b[39m::pluck()\n",
      "\n"
     ]
    }
   ],
   "source": [
    "library(\"readxl\")\n",
    "library(rvest) # scrap web pages\n",
    "library(reticulate)  # R & python interchange\n",
    "library(tidyverse)"
   ]
  },
  {
   "cell_type": "markdown",
   "metadata": {},
   "source": [
    "## Import BIB data\n",
    "- https://bibliometrix.org/documents/bibliometrix_Report.html\n",
    "- Place your bibtex files in bibs folder"
   ]
  },
  {
   "cell_type": "code",
   "execution_count": 20,
   "metadata": {},
   "outputs": [
    {
     "data": {
      "text/html": [
       "<style>\n",
       ".list-inline {list-style: none; margin:0; padding: 0}\n",
       ".list-inline>li {display: inline-block}\n",
       ".list-inline>li:not(:last-child)::after {content: \"\\00b7\"; padding: 0 .5ex}\n",
       "</style>\n",
       "<ol class=list-inline><li>'bibs//cochrane.bib'</li><li>'bibs//savedrecs.bib'</li><li>'bibs//scopus.bib'</li></ol>\n"
      ],
      "text/latex": [
       "\\begin{enumerate*}\n",
       "\\item 'bibs//cochrane.bib'\n",
       "\\item 'bibs//savedrecs.bib'\n",
       "\\item 'bibs//scopus.bib'\n",
       "\\end{enumerate*}\n"
      ],
      "text/markdown": [
       "1. 'bibs//cochrane.bib'\n",
       "2. 'bibs//savedrecs.bib'\n",
       "3. 'bibs//scopus.bib'\n",
       "\n",
       "\n"
      ],
      "text/plain": [
       "[1] \"bibs//cochrane.bib\"  \"bibs//savedrecs.bib\" \"bibs//scopus.bib\"   "
      ]
     },
     "metadata": {},
     "output_type": "display_data"
    }
   ],
   "source": [
    "# Reading Bibtex\n",
    "# assuming that you are in the same directory as this snippet\n",
    "library(bibliometrix)\n",
    "bibs <- list.files(\"bibs/\", pattern = \"bib$\", recursive = T, full.names = T)\n",
    "bibs # visualize the files, index start at 1"
   ]
  },
  {
   "cell_type": "code",
   "execution_count": null,
   "metadata": {},
   "outputs": [],
   "source": [
    "M <- convert2df(file=bibs[1], dbsource = \"scopus\", format = \"bibtex\")"
   ]
  },
  {
   "cell_type": "markdown",
   "metadata": {},
   "source": [
    "## Import xlsx data\n",
    "File extracted from StArt Tool"
   ]
  },
  {
   "cell_type": "code",
   "execution_count": null,
   "metadata": {},
   "outputs": [],
   "source": [
    "my_data <- read_excel(\"arquivos.xlsx\")\n",
    "sub_data <- my_data[my_data$`Status/Selection` == \"ACCEPTED\",]\n",
    "names(sub_data)"
   ]
  },
  {
   "cell_type": "code",
   "execution_count": 12,
   "metadata": {},
   "outputs": [
    {
     "data": {
      "text/html": [
       "<ol class=list-inline>\n",
       "\t<li>''</li>\n",
       "\t<li>'@ARTICLE{Mylonas201943,'</li>\n",
       "\t<li>'author={Mylonas, G. and Amaxilatis, D. and Pocero, L. and Markelis, I. and Hofstaetter, J. and Koulouris, P.},'</li>\n",
       "\t<li>'title={An educational IoT lab kit and tools for energy awareness in European schools},'</li>\n",
       "\t<li>'journal={International Journal of Child-Computer Interaction},'</li>\n",
       "\t<li>'year={2019},'</li>\n",
       "</ol>\n"
      ],
      "text/latex": [
       "\\begin{enumerate*}\n",
       "\\item ''\n",
       "\\item '@ARTICLE\\{Mylonas201943,'\n",
       "\\item 'author=\\{Mylonas, G. and Amaxilatis, D. and Pocero, L. and Markelis, I. and Hofstaetter, J. and Koulouris, P.\\},'\n",
       "\\item 'title=\\{An educational IoT lab kit and tools for energy awareness in European schools\\},'\n",
       "\\item 'journal=\\{International Journal of Child-Computer Interaction\\},'\n",
       "\\item 'year=\\{2019\\},'\n",
       "\\end{enumerate*}\n"
      ],
      "text/markdown": [
       "1. ''\n",
       "2. '@ARTICLE{Mylonas201943,'\n",
       "3. 'author={Mylonas, G. and Amaxilatis, D. and Pocero, L. and Markelis, I. and Hofstaetter, J. and Koulouris, P.},'\n",
       "4. 'title={An educational IoT lab kit and tools for energy awareness in European schools},'\n",
       "5. 'journal={International Journal of Child-Computer Interaction},'\n",
       "6. 'year={2019},'\n",
       "\n",
       "\n"
      ],
      "text/plain": [
       "[1] \"\"                                                                                                              \n",
       "[2] \"@ARTICLE{Mylonas201943,\"                                                                                       \n",
       "[3] \"author={Mylonas, G. and Amaxilatis, D. and Pocero, L. and Markelis, I. and Hofstaetter, J. and Koulouris, P.},\"\n",
       "[4] \"title={An educational IoT lab kit and tools for energy awareness in European schools},\"                        \n",
       "[5] \"journal={International Journal of Child-Computer Interaction},\"                                                \n",
       "[6] \"year={2019},\"                                                                                                  "
      ]
     },
     "metadata": {},
     "output_type": "display_data"
    }
   ],
   "source": [
    "head(D)"
   ]
  },
  {
   "cell_type": "code",
   "execution_count": 11,
   "metadata": {},
   "outputs": [
    {
     "data": {
      "text/html": [
       "'/home/laccan/testesRNotebooks/rnatlp'"
      ],
      "text/latex": [
       "'/home/laccan/testesRNotebooks/rnatlp'"
      ],
      "text/markdown": [
       "'/home/laccan/testesRNotebooks/rnatlp'"
      ],
      "text/plain": [
       "[1] \"/home/laccan/testesRNotebooks/rnatlp\""
      ]
     },
     "metadata": {},
     "output_type": "display_data"
    }
   ],
   "source": [
    "getwd()"
   ]
  }
 ],
 "metadata": {
  "kernelspec": {
   "display_name": "R",
   "language": "R",
   "name": "ir"
  },
  "language_info": {
   "codemirror_mode": "r",
   "file_extension": ".r",
   "mimetype": "text/x-r-source",
   "name": "R",
   "pygments_lexer": "r",
   "version": "4.0.1"
  }
 },
 "nbformat": 4,
 "nbformat_minor": 2
}
