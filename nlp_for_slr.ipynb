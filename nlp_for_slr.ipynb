{
 "cells": [
  {
   "cell_type": "code",
   "execution_count": 35,
   "metadata": {},
   "outputs": [],
   "source": [
    "library(\"readxl\")\n",
    "library(rvest) # scrap web pages\n",
    "library(reticulate)  # R & python interchange\n",
    "library(tidyverse)"
   ]
  },
  {
   "cell_type": "markdown",
   "metadata": {},
   "source": [
    "## Import BIB data\n",
    "- https://bibliometrix.org/documents/bibliometrix_Report.html\n",
    "- Place your bibtex files in bibs folder"
   ]
  },
  {
   "cell_type": "code",
   "execution_count": 21,
   "metadata": {},
   "outputs": [
    {
     "data": {
      "text/html": [
       "<style>\n",
       ".list-inline {list-style: none; margin:0; padding: 0}\n",
       ".list-inline>li {display: inline-block}\n",
       ".list-inline>li:not(:last-child)::after {content: \"\\00b7\"; padding: 0 .5ex}\n",
       "</style>\n",
       "<ol class=list-inline><li>'bibs//cochrane.bib'</li><li>'bibs//savedrecs.bib'</li><li>'bibs//scopus.bib'</li></ol>\n"
      ],
      "text/latex": [
       "\\begin{enumerate*}\n",
       "\\item 'bibs//cochrane.bib'\n",
       "\\item 'bibs//savedrecs.bib'\n",
       "\\item 'bibs//scopus.bib'\n",
       "\\end{enumerate*}\n"
      ],
      "text/markdown": [
       "1. 'bibs//cochrane.bib'\n",
       "2. 'bibs//savedrecs.bib'\n",
       "3. 'bibs//scopus.bib'\n",
       "\n",
       "\n"
      ],
      "text/plain": [
       "[1] \"bibs//cochrane.bib\"  \"bibs//savedrecs.bib\" \"bibs//scopus.bib\"   "
      ]
     },
     "metadata": {},
     "output_type": "display_data"
    }
   ],
   "source": [
    "# Reading Bibtex\n",
    "# assuming that you are in the same directory as this snippet\n",
    "library(bibliometrix)\n",
    "bibs <- list.files(\"bibs/\", pattern = \"bib$\", recursive = T, full.names = T)\n",
    "bibs # visualize the files, index start at 1"
   ]
  },
  {
   "cell_type": "code",
   "execution_count": null,
   "metadata": {},
   "outputs": [],
   "source": [
    "M <- convert2df(file=bibs[2], dbsource = \"isi\", format = \"bibtex\")"
   ]
  },
  {
   "cell_type": "markdown",
   "metadata": {},
   "source": [
    "## Import xlsx data\n",
    "File extracted from StArt Tool"
   ]
  },
  {
   "cell_type": "code",
   "execution_count": null,
   "metadata": {},
   "outputs": [],
   "source": [
    "my_data <- read_excel(\"bibs/arquivos.xlsx\")\n",
    "sub_data <- my_data[my_data$`Status/Selection` == \"ACCEPTED\",]\n",
    "names(sub_data) # visualize columns names"
   ]
  },
  {
   "cell_type": "markdown",
   "metadata": {},
   "source": [
    "# Export to document"
   ]
  },
  {
   "cell_type": "code",
   "execution_count": 37,
   "metadata": {
    "collapsed": true
   },
   "outputs": [
    {
     "name": "stderr",
     "output_type": "stream",
     "text": [
      "\n",
      "Attaching package: ‘magrittr’\n",
      "\n",
      "\n",
      "The following object is masked from ‘package:purrr’:\n",
      "\n",
      "    set_names\n",
      "\n",
      "\n",
      "The following object is masked from ‘package:tidyr’:\n",
      "\n",
      "    extract\n",
      "\n",
      "\n"
     ]
    }
   ],
   "source": [
    "library(officer)\n",
    "library(magrittr)"
   ]
  },
  {
   "cell_type": "code",
   "execution_count": 40,
   "metadata": {
    "scrolled": true
   },
   "outputs": [
    {
     "data": {
      "text/html": [
       "<strong>pdf:</strong> 2"
      ],
      "text/latex": [
       "\\textbf{pdf:} 2"
      ],
      "text/markdown": [
       "**pdf:** 2"
      ],
      "text/plain": [
       "pdf \n",
       "  2 "
      ]
     },
     "metadata": {},
     "output_type": "display_data"
    }
   ],
   "source": [
    "my_doc <- read_docx()\n",
    "\n",
    "src <- tempfile(fileext = \".png\")\n",
    "png(filename = src, width = 5, height = 6, units = 'in', res = 300)\n",
    "barplot(1:10, col = 1:10)\n",
    "dev.off()\n",
    "\n",
    "my_doc <- my_doc %>%\n",
    "  body_add_img(src = src, width = 5, height = 6, style = \"centered\") %>%\n",
    "  body_add_par(\"Hello world!\", style = \"Normal\") %>%\n",
    "  body_add_par(\"\", style = \"Normal\") %>% # blank paragraph\n",
    "  body_add_table(iris, style = \"table_template\")\n",
    "\n",
    "print(my_doc, target = \"first_example.docx\")"
   ]
  },
  {
   "cell_type": "markdown",
   "metadata": {},
   "source": [
    "# Manipulating the data"
   ]
  },
  {
   "cell_type": "code",
   "execution_count": 28,
   "metadata": {},
   "outputs": [],
   "source": [
    "# create new column combining title, abstract and keywords\n",
    "sub_data <- sub_data %>%\n",
    "mutate(fog = paste(sub_data$Title, sub_data$Abstract, sub_data$Keywords))"
   ]
  },
  {
   "cell_type": "code",
   "execution_count": 29,
   "metadata": {},
   "outputs": [],
   "source": [
    "# capture only these columns\n",
    "temp_subdata <- sub_data %>%\n",
    "select (Title, DOI, Year, fog)"
   ]
  },
  {
   "cell_type": "markdown",
   "metadata": {},
   "source": [
    "### Stemming with Spacy\n",
    "- https://spacy.io - substantive subordinate operations"
   ]
  },
  {
   "cell_type": "code",
   "execution_count": 30,
   "metadata": {},
   "outputs": [],
   "source": [
    "spacy = import(\"spacy\")\n",
    "nlp = spacy$load('en_core_web_sm')"
   ]
  }
 ],
 "metadata": {
  "kernelspec": {
   "display_name": "R",
   "language": "R",
   "name": "ir"
  },
  "language_info": {
   "codemirror_mode": "r",
   "file_extension": ".r",
   "mimetype": "text/x-r-source",
   "name": "R",
   "pygments_lexer": "r",
   "version": "4.0.1"
  }
 },
 "nbformat": 4,
 "nbformat_minor": 2
}
