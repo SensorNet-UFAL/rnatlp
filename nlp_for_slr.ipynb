{
 "cells": [
  {
   "cell_type": "code",
   "execution_count": 35,
   "metadata": {},
   "outputs": [],
   "source": [
    "library(\"readxl\")\n",
    "library(rvest) # scrap web pages\n",
    "library(reticulate)  # R & python interchange\n",
    "library(tidyverse)"
   ]
  },
  {
   "cell_type": "markdown",
   "metadata": {},
   "source": [
    "## Import BIB data\n",
    "- https://bibliometrix.org/documents/bibliometrix_Report.html\n",
    "- Place your bibtex files in bibs folder"
   ]
  },
  {
   "cell_type": "code",
   "execution_count": 21,
   "metadata": {},
   "outputs": [
    {
     "data": {
      "text/html": [
       "<style>\n",
       ".list-inline {list-style: none; margin:0; padding: 0}\n",
       ".list-inline>li {display: inline-block}\n",
       ".list-inline>li:not(:last-child)::after {content: \"\\00b7\"; padding: 0 .5ex}\n",
       "</style>\n",
       "<ol class=list-inline><li>'bibs//cochrane.bib'</li><li>'bibs//savedrecs.bib'</li><li>'bibs//scopus.bib'</li></ol>\n"
      ],
      "text/latex": [
       "\\begin{enumerate*}\n",
       "\\item 'bibs//cochrane.bib'\n",
       "\\item 'bibs//savedrecs.bib'\n",
       "\\item 'bibs//scopus.bib'\n",
       "\\end{enumerate*}\n"
      ],
      "text/markdown": [
       "1. 'bibs//cochrane.bib'\n",
       "2. 'bibs//savedrecs.bib'\n",
       "3. 'bibs//scopus.bib'\n",
       "\n",
       "\n"
      ],
      "text/plain": [
       "[1] \"bibs//cochrane.bib\"  \"bibs//savedrecs.bib\" \"bibs//scopus.bib\"   "
      ]
     },
     "metadata": {},
     "output_type": "display_data"
    }
   ],
   "source": [
    "# Reading Bibtex\n",
    "# assuming that you are in the same directory as this snippet\n",
    "library(bibliometrix)\n",
    "bibs <- list.files(\"bibs/\", pattern = \"bib$\", recursive = T, full.names = T)\n",
    "bibs # visualize the files, index start at 1"
   ]
  },
  {
   "cell_type": "code",
   "execution_count": null,
   "metadata": {},
   "outputs": [],
   "source": [
    "M <- convert2df(file=bibs[2], dbsource = \"isi\", format = \"bibtex\")"
   ]
  },
  {
   "cell_type": "markdown",
   "metadata": {},
   "source": [
    "## Import xlsx data\n",
    "File extracted from StArt Tool"
   ]
  },
  {
   "cell_type": "code",
   "execution_count": null,
   "metadata": {},
   "outputs": [],
   "source": [
    "my_data <- read_excel(\"bibs/arquivos.xlsx\")\n",
    "sub_data <- my_data[my_data$`Status/Selection` == \"ACCEPTED\",]\n",
    "names(sub_data) # visualize columns names"
   ]
  },
  {
   "cell_type": "markdown",
   "metadata": {},
   "source": [
    "# Export to document\n",
    "Working"
   ]
  },
  {
   "cell_type": "markdown",
   "metadata": {},
   "source": [
    "# Manipulating the data"
   ]
  },
  {
   "cell_type": "code",
   "execution_count": 28,
   "metadata": {},
   "outputs": [],
   "source": [
    "# create new column combining title, abstract and keywords\n",
    "sub_data <- sub_data %>%\n",
    "mutate(fog = paste(sub_data$Title, sub_data$Abstract, sub_data$Keywords))"
   ]
  },
  {
   "cell_type": "code",
   "execution_count": 29,
   "metadata": {},
   "outputs": [],
   "source": [
    "# capture only these columns\n",
    "temp_subdata <- sub_data %>%\n",
    "select (Title, DOI, Year, fog)"
   ]
  },
  {
   "cell_type": "markdown",
   "metadata": {},
   "source": [
    "### Topic Modeling"
   ]
  },
  {
   "cell_type": "code",
   "execution_count": 53,
   "metadata": {},
   "outputs": [
    {
     "data": {
      "text/plain": [
       "Document-feature matrix of: 204 documents, 7,363 features (98.3% sparse) and 3 docvars.\n",
       "       features\n",
       "docs    from high-level modeling toward efficient and trustworthy circuits\n",
       "  text1    1          1        1      1         2  10           1        1\n",
       "  text2    2          0        0      0         0   9           0        0\n",
       "  text3    0          0        1      0         0   5           0        0\n",
       "  text4    0          0        0      0         0   5           0        0\n",
       "  text5    0          0        0      0         0   2           0        0\n",
       "  text6    0          0        0      0         0   7           0        0\n",
       "       features\n",
       "docs    behavior-interaction-priority (\n",
       "  text1                             1 3\n",
       "  text2                             0 2\n",
       "  text3                             0 1\n",
       "  text4                             0 0\n",
       "  text5                             0 2\n",
       "  text6                             0 1\n",
       "[ reached max_ndoc ... 198 more documents, reached max_nfeat ... 7,353 more features ]"
      ]
     },
     "metadata": {},
     "output_type": "display_data"
    }
   ],
   "source": [
    "# transform column fog to Document term matrix\n",
    "library(quanteda)\n",
    "data.dtm <- corpus(temp_subdata, text_field = \"fog\")\n",
    "data.dtm <- dfm(data.dtm)\n",
    "data.dtm"
   ]
  },
  {
   "cell_type": "code",
   "execution_count": 61,
   "metadata": {
    "scrolled": true
   },
   "outputs": [],
   "source": [
    "library(tidytext)\n",
    "data.dtm <- tidy(data.dtm) %>% cast_dtm(document, term, count)"
   ]
  },
  {
   "cell_type": "code",
   "execution_count": 64,
   "metadata": {},
   "outputs": [
    {
     "name": "stdout",
     "output_type": "stream",
     "text": [
      "fit models... done.\n",
      "calculate metrics:\n",
      "  Griffiths2004... done.\n",
      "  CaoJuan2009... done.\n",
      "  Arun2010... done.\n",
      "  Deveaud2014... done.\n"
     ]
    }
   ],
   "source": [
    "library(ldatuning)\n",
    "library(topicmodels)\n",
    "tunningresult <- FindTopicsNumber(\n",
    "data.dtm,\n",
    "topics = seq(from = 2, to = 7, by = 1),\n",
    "metrics = c(\"Griffiths2004\", \"CaoJuan2009\", \"Arun2010\", \"Deveaud2014\"),\n",
    "method = \"Gibbs\",\n",
    "control = list(seed = 77),\n",
    "mc.cores = 1L,\n",
    "verbose = TRUE)"
   ]
  },
  {
   "cell_type": "markdown",
   "metadata": {},
   "source": [
    "### Stemming with Spacy\n",
    "- https://spacy.io - substantive subordinate operations"
   ]
  },
  {
   "cell_type": "code",
   "execution_count": 30,
   "metadata": {},
   "outputs": [],
   "source": [
    "spacy = import(\"spacy\")\n",
    "nlp = spacy$load('en_core_web_sm')"
   ]
  }
 ],
 "metadata": {
  "kernelspec": {
   "display_name": "R",
   "language": "R",
   "name": "ir"
  },
  "language_info": {
   "codemirror_mode": "r",
   "file_extension": ".r",
   "mimetype": "text/x-r-source",
   "name": "R",
   "pygments_lexer": "r",
   "version": "4.0.1"
  }
 },
 "nbformat": 4,
 "nbformat_minor": 2
}
